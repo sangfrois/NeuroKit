{
 "cells": [
  {
   "cell_type": "markdown",
   "metadata": {},
   "source": [
    "# The Structure of Indices of Heart Rate Variability\n",
    "## Introduction\n",
    "### Context\n",
    "The recording of cardiovascular activity with the help of electrocardiographic (ECG) and photoplethysmographic (PPG) signals provides a cost-efficient and reliable window into the autonomic nervous system (ANS). These biosignals provide complex patterns of variability present in any biological systems, i.e. Heart-Rate Variability (HRV). These patterns exhibit the underlying organization of ANS and can be described as mathematical chaos (Shaffer et al. 2015). The aim of this study is to explore the factorial structure of the patterns of HRV.\n",
    "### Definition\n",
    "HRV can be defined as the oscillation of the interval between consecutive heartbeats, or inter-beat intervals (IBIs), as regulated by the nervous system. The heart is dually innervated by the two constituents of the autonomic nervous system (ANS) namely, the sympathetic (SNS) and parasympathetic (PNS) nervous system. The ANS dynamically regulates an individual’s heart rate in response to internal, and external events, e.g.  an increase in blood pressure related or not to a stressful event. While the PNS exert more dynamic control over heart rate, the SNS is reported to have more influence on myocardial contractility, meaning they have distinct modes of innervation (Berntson, Quigley, Norman, & Lozano, 2017, p. 189). The PNS changes HR in terms of miliseconds, while the SNS acts on HR in terms of seconds. In this sense, one can suppose that the factorial structure of HRV's indices is informative of autonomic organization.\n",
    "### Research problem\n",
    "Although HRV is conceptually simple, the relations between its multiple indices still remain complex to interpret. We use the term indices to describe each variable derived from the IBIs distribution and the  distribution of differences between successive IBIs. The factorial structure of these variables is prone to be altered according to the experimental condition, but also the context, body position, metabolism etc. Significant work has been done to provide a clear methodological framework in response to these issues. Researchers have provided guidelines to validate and share results transparently (Quintana &. Heathers, 2014; Quintana et al. 2016), on top of classic standards (Task Force, 1996), and clear systematic definition of HRV variables (Shaffer et al. 2015). However, Laborde, Mosley & Thayer (2017) argued that some confusion still is present as to the relationship between variables computed from IBIs and their meaning in a given experimental context, i.e. what’s the level of cardiac vagal tone. We aim to respond to this issue by discussing the statistical relationships of these variables independently of experimental context. A principal component analysis (PCA) is used to reduce the dimensionality of our data and isolate factors that could be related to ANS' components contribution. \n",
    "## Method\n",
    "In light of the recommendations published in the last decade, this study explores the statistical relationships between all indices of HRV using open-access databases of annotated ECG signals and NeuroKit data preparation pipeline. In order to allow proper isolation of non-redundant related indices of HRV, PCA will be used as a dimensionality reduction technique to explore their relationships."
   ]
  },
  {
   "cell_type": "markdown",
   "metadata": {},
   "source": [
    "#### Dependencies"
   ]
  },
  {
   "cell_type": "code",
   "execution_count": 1,
   "metadata": {},
   "outputs": [],
   "source": [
    "import pandas as pd\n",
    "import numpy as np\n",
    "import neurokit2 as nk"
   ]
  },
  {
   "cell_type": "code",
   "execution_count": 3,
   "metadata": {},
   "outputs": [
    {
     "data": {
      "text/plain": [
       "'C:\\\\Users\\\\sangfrois\\\\NeuroKit\\\\studies\\\\hrv_structure'"
      ]
     },
     "execution_count": 3,
     "metadata": {},
     "output_type": "execute_result"
    }
   ],
   "source": [
    "pwd"
   ]
  },
  {
   "cell_type": "markdown",
   "metadata": {},
   "source": [
    "### Databases\n",
    "Procedure to dowload the data is available through [...](). Annotated R-peaks are used to compute HRV."
   ]
  },
  {
   "cell_type": "code",
   "execution_count": 2,
   "metadata": {},
   "outputs": [
    {
     "ename": "FileNotFoundError",
     "evalue": "[Errno 2] File ../../data/gudb/Rpeaks.csv does not exist: '../../data/gudb/Rpeaks.csv'",
     "output_type": "error",
     "traceback": [
      "\u001b[1;31m---------------------------------------------------------------------------\u001b[0m",
      "\u001b[1;31mFileNotFoundError\u001b[0m                         Traceback (most recent call last)",
      "\u001b[1;32m<ipython-input-2-fbebdb764539>\u001b[0m in \u001b[0;36m<module>\u001b[1;34m\u001b[0m\n\u001b[0;32m      1\u001b[0m \u001b[1;31m# Load True R-peaks location\u001b[0m\u001b[1;33m\u001b[0m\u001b[1;33m\u001b[0m\u001b[1;33m\u001b[0m\u001b[0m\n\u001b[1;32m----> 2\u001b[1;33m files_list = [pd.read_csv(\"../../data/gudb/Rpeaks.csv\"),\n\u001b[0m\u001b[0;32m      3\u001b[0m              \u001b[0mpd\u001b[0m\u001b[1;33m.\u001b[0m\u001b[0mread_csv\u001b[0m\u001b[1;33m(\u001b[0m\u001b[1;34m\"../../data/mit_arrhythmia/Rpeaks.csv\"\u001b[0m\u001b[1;33m)\u001b[0m\u001b[1;33m,\u001b[0m\u001b[1;33m\u001b[0m\u001b[1;33m\u001b[0m\u001b[0m\n\u001b[0;32m      4\u001b[0m              \u001b[0mpd\u001b[0m\u001b[1;33m.\u001b[0m\u001b[0mread_csv\u001b[0m\u001b[1;33m(\u001b[0m\u001b[1;34m\"../../data/mit_normal/Rpeaks.csv\"\u001b[0m\u001b[1;33m)\u001b[0m\u001b[1;33m,\u001b[0m\u001b[1;33m\u001b[0m\u001b[1;33m\u001b[0m\u001b[0m\n\u001b[0;32m      5\u001b[0m              pd.read_csv(\"../../data/fantasia/Rpeaks.csv\")]\n",
      "\u001b[1;32m~\\Documents\\Computation\\Anaconda3\\envs\\sangfroisEnv\\lib\\site-packages\\pandas\\io\\parsers.py\u001b[0m in \u001b[0;36mparser_f\u001b[1;34m(filepath_or_buffer, sep, delimiter, header, names, index_col, usecols, squeeze, prefix, mangle_dupe_cols, dtype, engine, converters, true_values, false_values, skipinitialspace, skiprows, skipfooter, nrows, na_values, keep_default_na, na_filter, verbose, skip_blank_lines, parse_dates, infer_datetime_format, keep_date_col, date_parser, dayfirst, cache_dates, iterator, chunksize, compression, thousands, decimal, lineterminator, quotechar, quoting, doublequote, escapechar, comment, encoding, dialect, error_bad_lines, warn_bad_lines, delim_whitespace, low_memory, memory_map, float_precision)\u001b[0m\n\u001b[0;32m    674\u001b[0m         )\n\u001b[0;32m    675\u001b[0m \u001b[1;33m\u001b[0m\u001b[0m\n\u001b[1;32m--> 676\u001b[1;33m         \u001b[1;32mreturn\u001b[0m \u001b[0m_read\u001b[0m\u001b[1;33m(\u001b[0m\u001b[0mfilepath_or_buffer\u001b[0m\u001b[1;33m,\u001b[0m \u001b[0mkwds\u001b[0m\u001b[1;33m)\u001b[0m\u001b[1;33m\u001b[0m\u001b[1;33m\u001b[0m\u001b[0m\n\u001b[0m\u001b[0;32m    677\u001b[0m \u001b[1;33m\u001b[0m\u001b[0m\n\u001b[0;32m    678\u001b[0m     \u001b[0mparser_f\u001b[0m\u001b[1;33m.\u001b[0m\u001b[0m__name__\u001b[0m \u001b[1;33m=\u001b[0m \u001b[0mname\u001b[0m\u001b[1;33m\u001b[0m\u001b[1;33m\u001b[0m\u001b[0m\n",
      "\u001b[1;32m~\\Documents\\Computation\\Anaconda3\\envs\\sangfroisEnv\\lib\\site-packages\\pandas\\io\\parsers.py\u001b[0m in \u001b[0;36m_read\u001b[1;34m(filepath_or_buffer, kwds)\u001b[0m\n\u001b[0;32m    446\u001b[0m \u001b[1;33m\u001b[0m\u001b[0m\n\u001b[0;32m    447\u001b[0m     \u001b[1;31m# Create the parser.\u001b[0m\u001b[1;33m\u001b[0m\u001b[1;33m\u001b[0m\u001b[1;33m\u001b[0m\u001b[0m\n\u001b[1;32m--> 448\u001b[1;33m     \u001b[0mparser\u001b[0m \u001b[1;33m=\u001b[0m \u001b[0mTextFileReader\u001b[0m\u001b[1;33m(\u001b[0m\u001b[0mfp_or_buf\u001b[0m\u001b[1;33m,\u001b[0m \u001b[1;33m**\u001b[0m\u001b[0mkwds\u001b[0m\u001b[1;33m)\u001b[0m\u001b[1;33m\u001b[0m\u001b[1;33m\u001b[0m\u001b[0m\n\u001b[0m\u001b[0;32m    449\u001b[0m \u001b[1;33m\u001b[0m\u001b[0m\n\u001b[0;32m    450\u001b[0m     \u001b[1;32mif\u001b[0m \u001b[0mchunksize\u001b[0m \u001b[1;32mor\u001b[0m \u001b[0miterator\u001b[0m\u001b[1;33m:\u001b[0m\u001b[1;33m\u001b[0m\u001b[1;33m\u001b[0m\u001b[0m\n",
      "\u001b[1;32m~\\Documents\\Computation\\Anaconda3\\envs\\sangfroisEnv\\lib\\site-packages\\pandas\\io\\parsers.py\u001b[0m in \u001b[0;36m__init__\u001b[1;34m(self, f, engine, **kwds)\u001b[0m\n\u001b[0;32m    878\u001b[0m             \u001b[0mself\u001b[0m\u001b[1;33m.\u001b[0m\u001b[0moptions\u001b[0m\u001b[1;33m[\u001b[0m\u001b[1;34m\"has_index_names\"\u001b[0m\u001b[1;33m]\u001b[0m \u001b[1;33m=\u001b[0m \u001b[0mkwds\u001b[0m\u001b[1;33m[\u001b[0m\u001b[1;34m\"has_index_names\"\u001b[0m\u001b[1;33m]\u001b[0m\u001b[1;33m\u001b[0m\u001b[1;33m\u001b[0m\u001b[0m\n\u001b[0;32m    879\u001b[0m \u001b[1;33m\u001b[0m\u001b[0m\n\u001b[1;32m--> 880\u001b[1;33m         \u001b[0mself\u001b[0m\u001b[1;33m.\u001b[0m\u001b[0m_make_engine\u001b[0m\u001b[1;33m(\u001b[0m\u001b[0mself\u001b[0m\u001b[1;33m.\u001b[0m\u001b[0mengine\u001b[0m\u001b[1;33m)\u001b[0m\u001b[1;33m\u001b[0m\u001b[1;33m\u001b[0m\u001b[0m\n\u001b[0m\u001b[0;32m    881\u001b[0m \u001b[1;33m\u001b[0m\u001b[0m\n\u001b[0;32m    882\u001b[0m     \u001b[1;32mdef\u001b[0m \u001b[0mclose\u001b[0m\u001b[1;33m(\u001b[0m\u001b[0mself\u001b[0m\u001b[1;33m)\u001b[0m\u001b[1;33m:\u001b[0m\u001b[1;33m\u001b[0m\u001b[1;33m\u001b[0m\u001b[0m\n",
      "\u001b[1;32m~\\Documents\\Computation\\Anaconda3\\envs\\sangfroisEnv\\lib\\site-packages\\pandas\\io\\parsers.py\u001b[0m in \u001b[0;36m_make_engine\u001b[1;34m(self, engine)\u001b[0m\n\u001b[0;32m   1112\u001b[0m     \u001b[1;32mdef\u001b[0m \u001b[0m_make_engine\u001b[0m\u001b[1;33m(\u001b[0m\u001b[0mself\u001b[0m\u001b[1;33m,\u001b[0m \u001b[0mengine\u001b[0m\u001b[1;33m=\u001b[0m\u001b[1;34m\"c\"\u001b[0m\u001b[1;33m)\u001b[0m\u001b[1;33m:\u001b[0m\u001b[1;33m\u001b[0m\u001b[1;33m\u001b[0m\u001b[0m\n\u001b[0;32m   1113\u001b[0m         \u001b[1;32mif\u001b[0m \u001b[0mengine\u001b[0m \u001b[1;33m==\u001b[0m \u001b[1;34m\"c\"\u001b[0m\u001b[1;33m:\u001b[0m\u001b[1;33m\u001b[0m\u001b[1;33m\u001b[0m\u001b[0m\n\u001b[1;32m-> 1114\u001b[1;33m             \u001b[0mself\u001b[0m\u001b[1;33m.\u001b[0m\u001b[0m_engine\u001b[0m \u001b[1;33m=\u001b[0m \u001b[0mCParserWrapper\u001b[0m\u001b[1;33m(\u001b[0m\u001b[0mself\u001b[0m\u001b[1;33m.\u001b[0m\u001b[0mf\u001b[0m\u001b[1;33m,\u001b[0m \u001b[1;33m**\u001b[0m\u001b[0mself\u001b[0m\u001b[1;33m.\u001b[0m\u001b[0moptions\u001b[0m\u001b[1;33m)\u001b[0m\u001b[1;33m\u001b[0m\u001b[1;33m\u001b[0m\u001b[0m\n\u001b[0m\u001b[0;32m   1115\u001b[0m         \u001b[1;32melse\u001b[0m\u001b[1;33m:\u001b[0m\u001b[1;33m\u001b[0m\u001b[1;33m\u001b[0m\u001b[0m\n\u001b[0;32m   1116\u001b[0m             \u001b[1;32mif\u001b[0m \u001b[0mengine\u001b[0m \u001b[1;33m==\u001b[0m \u001b[1;34m\"python\"\u001b[0m\u001b[1;33m:\u001b[0m\u001b[1;33m\u001b[0m\u001b[1;33m\u001b[0m\u001b[0m\n",
      "\u001b[1;32m~\\Documents\\Computation\\Anaconda3\\envs\\sangfroisEnv\\lib\\site-packages\\pandas\\io\\parsers.py\u001b[0m in \u001b[0;36m__init__\u001b[1;34m(self, src, **kwds)\u001b[0m\n\u001b[0;32m   1889\u001b[0m         \u001b[0mkwds\u001b[0m\u001b[1;33m[\u001b[0m\u001b[1;34m\"usecols\"\u001b[0m\u001b[1;33m]\u001b[0m \u001b[1;33m=\u001b[0m \u001b[0mself\u001b[0m\u001b[1;33m.\u001b[0m\u001b[0musecols\u001b[0m\u001b[1;33m\u001b[0m\u001b[1;33m\u001b[0m\u001b[0m\n\u001b[0;32m   1890\u001b[0m \u001b[1;33m\u001b[0m\u001b[0m\n\u001b[1;32m-> 1891\u001b[1;33m         \u001b[0mself\u001b[0m\u001b[1;33m.\u001b[0m\u001b[0m_reader\u001b[0m \u001b[1;33m=\u001b[0m \u001b[0mparsers\u001b[0m\u001b[1;33m.\u001b[0m\u001b[0mTextReader\u001b[0m\u001b[1;33m(\u001b[0m\u001b[0msrc\u001b[0m\u001b[1;33m,\u001b[0m \u001b[1;33m**\u001b[0m\u001b[0mkwds\u001b[0m\u001b[1;33m)\u001b[0m\u001b[1;33m\u001b[0m\u001b[1;33m\u001b[0m\u001b[0m\n\u001b[0m\u001b[0;32m   1892\u001b[0m         \u001b[0mself\u001b[0m\u001b[1;33m.\u001b[0m\u001b[0munnamed_cols\u001b[0m \u001b[1;33m=\u001b[0m \u001b[0mself\u001b[0m\u001b[1;33m.\u001b[0m\u001b[0m_reader\u001b[0m\u001b[1;33m.\u001b[0m\u001b[0munnamed_cols\u001b[0m\u001b[1;33m\u001b[0m\u001b[1;33m\u001b[0m\u001b[0m\n\u001b[0;32m   1893\u001b[0m \u001b[1;33m\u001b[0m\u001b[0m\n",
      "\u001b[1;32mpandas\\_libs\\parsers.pyx\u001b[0m in \u001b[0;36mpandas._libs.parsers.TextReader.__cinit__\u001b[1;34m()\u001b[0m\n",
      "\u001b[1;32mpandas\\_libs\\parsers.pyx\u001b[0m in \u001b[0;36mpandas._libs.parsers.TextReader._setup_parser_source\u001b[1;34m()\u001b[0m\n",
      "\u001b[1;31mFileNotFoundError\u001b[0m: [Errno 2] File ../../data/gudb/Rpeaks.csv does not exist: '../../data/gudb/Rpeaks.csv'"
     ]
    }
   ],
   "source": [
    "# Load True R-peaks location\n",
    "files_list = [pd.read_csv(\"../../data/gudb/Rpeaks.csv\"),\n",
    "             pd.read_csv(\"../../data/mit_arrhythmia/Rpeaks.csv\"),\n",
    "             pd.read_csv(\"../../data/mit_normal/Rpeaks.csv\"),\n",
    "             pd.read_csv(\"../../data/fantasia/Rpeaks.csv\")]"
   ]
  },
  {
   "cell_type": "markdown",
   "metadata": {},
   "source": [
    "### Glasgow University Database\n",
    "\n",
    "The GUDB Database (Howell & Porr, 2018) contains ECGs from 25 subjects.\n",
    "Each subject was recorded performing 5 different tasks for two minutes\n",
    "(sitting, doing a maths test on a tablet, walking on a treadmill,\n",
    "running on a treadmill, using a hand bike). The sampling rate is 250Hz\n",
    "for all the conditions.\n",
    "\n",
    "The script to download and format the database using the\n",
    "[**ECG-GUDB**](https://github.com/berndporr/ECG-GUDB) Python package by\n",
    "Bernd Porr can be found\n",
    "[**here**](https://github.com/neuropsychology/NeuroKit/blob/dev/data/gudb/download_gudb.py).\n",
    "\n",
    "### MIT-BIH Arrhythmia Database\n",
    "\n",
    "The MIT-BIH Arrhythmia Database (MIT-Arrhythmia; Moody & Mark, 2001)\n",
    "contains 48 excerpts of 30-min of two-channel ambulatory ECG recordings\n",
    "sampled at 360Hz and 25 additional recordings from the same participants\n",
    "including common but clinically significant arrhythmias (denoted as the\n",
    "`MIT-Arrhythmia-x` database).\n",
    "\n",
    "The script to download and format the database using the can be found\n",
    "[**here**](https://github.com/neuropsychology/NeuroKit/blob/dev/data/mit_arrhythmia/download_mit_arrhythmia.py).\n",
    "\n",
    "<!-- ### MIT-BIH Noise Stress Test Database -->\n",
    "\n",
    "<!-- The MIT-BIH Noise Stress Test Database [MIT-NST; @moody1984bih] features two 30-minute recordings distorted by adding different types and levels of synthesized noise typical of electrode motion artefacts. -->\n",
    "\n",
    "### MIT-BIH Normal Sinus Rhythm Database\n",
    "\n",
    "This database includes 18 clean long-term ECG recordings of subjects.\n",
    "Due to memory limits, we only kept the second hour of recording of each\n",
    "participant.\n",
    "\n",
    "The script to download and format the database using the can be found\n",
    "[**here**](https://github.com/neuropsychology/NeuroKit/blob/dev/data/mit_normal/download_mit_normal.py).\n",
    "\n",
    "### Lobachevsky University Electrocardiography Database\n",
    "\n",
    "The Lobachevsky University Electrocardiography Database (LUDB;\n",
    "Kalyakulina et al., 2018) consists of 200 10-second 12-lead ECG signal\n",
    "records representing different morphologies of the ECG signal. The ECGs\n",
    "were collected from healthy volunteers and patients, which had various\n",
    "cardiovascular diseases. The boundaries of P, T waves and QRS complexes\n",
    "were manually annotated by cardiologists for all 200 records.\n",
    "\n",
    "### Fantasia Database\n",
    "\n",
    "The Fantasia database (Iyengar, Peng, Morin, Goldberger, & Lipsitz,\n",
    "1996) consists of twenty young and twenty elderly healthy subjects. All\n",
    "subjects remained in a resting state in sinus rhythm while watching the\n",
    "movie Fantasia (Disney, 1940) to help maintain wakefulness. The\n",
    "continuous ECG signals were digitized at 250 Hz. Each heartbeat was\n",
    "annotated using an automated arrhythmia detection algorithm, and each\n",
    "beat annotation was verified by visual inspection.\n"
   ]
  },
  {
   "cell_type": "markdown",
   "metadata": {},
   "source": [
    "## Procedure\n",
    "\n",
    "### NeuroKit Data preparation"
   ]
  },
  {
   "cell_type": "code",
   "execution_count": null,
   "metadata": {},
   "outputs": [],
   "source": [
    "# Get results\n",
    "all_results = pd.DataFrame()\n",
    "\n",
    "# Get to a participant's file inside a given database\n",
    "for file in files_list:\n",
    "    for database in np.unique(file[\"Database\"]):\n",
    "        data = file[file[\"Database\"] == database]\n",
    "        \n",
    "        # Get sample rate and millisecond interval for each participant \n",
    "        for participant in np.unique(data[\"Participant\"]):\n",
    "            data_participant = data[data[\"Participant\"] == participant]\n",
    "            sampling_rate = np.unique(data_participant[\"Sampling_Rate\"])[0]\n",
    "            rpeaks = data_participant[\"Rpeaks\"].values\n",
    "            \n",
    "            # Compute HRV indices of a given participant\n",
    "            results = nk.hrv(rpeaks, sampling_rate=sampling_rate)\n",
    "            results[\"Participant\"] = participant\n",
    "            results[\"Database\"] = database\n",
    "            results[\"Recording_Length\"] = rpeaks[-1] / sampling_rate / 60\n",
    "            \n",
    "            # keep results\n",
    "            all_results = pd.concat([all_results, results], axis=0)\n",
    "\n",
    "# push results in csv format\n",
    "all_results.to_csv(\"data.csv\", index=False)"
   ]
  },
  {
   "cell_type": "markdown",
   "metadata": {},
   "source": [
    "### Time\n",
    "Contains time domain HRV metrics:\n",
    "   - **RMSSD**: The square root of the mean of the sum of successive differences between\n",
    "        adjacent RR intervals. It is equivalent (although on another scale) to SD1, and\n",
    "        therefore it is redundant to report correlations with both (Ciccone, 2017).\n",
    "   - **MeanNN**: The mean of the RR intervals.\n",
    "   - **SDNN**: The standard deviation of the RR intervals.\n",
    "   - **SDSD**: The standard deviation of the successive differences between RR intervals.\n",
    "   - **CVNN**: The standard deviation of the RR intervals (SDNN) divided by the mean of the RR\n",
    "        intervals (MeanNN).\n",
    "   - **CVSD**: The root mean square of the sum of successive differences (RMSSD) divided by the\n",
    "        mean of the RR intervals (MeanNN).\n",
    "   - **MedianNN**: The median of the absolute values of the successive differences between RR intervals.\n",
    "   - **MadNN**: The median absolute deviation of the RR intervals.\n",
    "   - **HCVNN**: The median absolute deviation of the RR intervals (MadNN) divided by the median\n",
    "        of the absolute differences of their successive differences (MedianNN).\n",
    "   - **IQRNN**: The interquartile range (IQR) of the RR intervals.\n",
    "   - **pNN50**: The proportion of RR intervals greater than 50ms, out of the total number of RR intervals.\n",
    "   - **pNN20**: The proportion of RR intervals greater than 20ms, out of the total number of RR intervals.\n",
    "   - **TINN**: A geometrical parameter of the HRV, or more specifically, the baseline width of\n",
    "        the RR intervals distribution obtained by triangular interpolation, where the error of least\n",
    "        squares determines the triangle. It is an approximation of the RR interval distribution.\n",
    "   - **HTI**: The HRV triangular index, measuring the total number of RR intervals divded by the\n",
    "        height of the RR intervals histogram."
   ]
  },
  {
   "cell_type": "markdown",
   "metadata": {},
   "source": [
    "### Frequency\n",
    "   - **ULF**: The spectral power density pertaining to ultra low frequency band i.e., .0 to .0033 Hz\n",
    "        by default.\n",
    "   - **VLF**: The spectral power density pertaining to very low frequency band i.e., .0033 to .04 Hz\n",
    "        by default.\n",
    "   - **LF**: The spectral power density pertaining to low frequency band i.e., .04 to .15 Hz by default.\n",
    "   - **HF**: The spectral power density pertaining to high frequency band i.e., .15 to .4 Hz by default.\n",
    "   - **VHF**: The variability, or signal power, in very high frequency i.e., .4 to .5 Hz by default.\n",
    "   - **LFn**: The normalized low frequency, obtained by dividing the low frequency power by\n",
    "        the total power.\n",
    "   - **HFn**: The normalized high frequency, obtained by dividing the low frequency power by\n",
    "        the total power.\n",
    "   - **LnHF**: The log transformed HF."
   ]
  },
  {
   "cell_type": "markdown",
   "metadata": {},
   "source": [
    "### Non-Linear\n",
    "   - **SD1**: SD1 is a measure of the spread of RR intervals on the Poincaré plotperpendicular to the line of identity. It is an index of short-term RR interval fluctuations, i.e., beat-to-beat variability. It is equivalent (although on another scale) to RMSSD, and therefore it is redundant to report correlations with both (Ciccone, 2017).\n",
    "\n",
    "   - **SD2**: SD2 is a measure of the spread of RR intervals on the Poincaré plot along the line of identity. It is an index of long-term RR interval fluctuations.\n",
    "\n",
    "   - **SD1SD2**: the ratio between short and long term fluctuations of the RR intervals (SD1 divided by SD2).\n",
    "\n",
    "   - **S**: Area of ellipse described by SD1 and SD2 (``pi * SD1 * SD2``). It is proportional to *SD1SD2*.\n",
    "\n",
    "   - **CSI**: The Cardiac Sympathetic Index (Toichi, 1997), calculated by dividing the longitudinal variability of the Poincaré plot (``4*SD2``) by its transverse variability (``4*SD1``).\n",
    "\n",
    "   - **CVI**: The Cardiac Vagal Index (Toichi, 1997), equal to the logarithm of the product of longitudinal (``4*SD2``) and transverse variability (``4*SD1``).\n",
    "\n",
    "   - **CSI_Modified**: The modified CSI (Jeppesen, 2014) obtained by dividing the square of the longitudinal variability by its transverse variability.\n",
    "\n",
    "**Indices of Heart Rate Asymmetry (HRA), i.e., asymmetry of the Poincaré plot** (Yan, 2017):\n",
    "\n",
    "   - **GI**: Guzik's Index, defined as the distance of points above line of identity (LI) to LI divided by the distance of all points in Poincaré plot to LI except those that are located on LI.\n",
    "\n",
    "   - **SI**: Slope Index, defined as the phase angle of points above LI divided by the phase angle of all points in Poincaré plot except those that are located on LI.\n",
    "\n",
    "   - **AI**: Area Index, defined as the cumulative area of the sectors corresponding to the points that are located above LI divided by the cumulative area of sectors corresponding to all points in the Poincaré plot except those that are located on LI.\n",
    "\n",
    "   - **PI**: Porta's Index, defined as the number of points below LI divided by the total number of points in Poincaré plot except those that are located on LI.\n",
    "\n",
    "   - **SD1d** and **SD1a**: short-term variance of contributions of decelerations (prolongations of RR intervals) and accelerations (shortenings of RR intervals), respectively (Piskorski,  2011).\n",
    "\n",
    "   - **C1d** and **C1a**: the contributions of heart rate decelerations and accelerations to short-term HRV, respectively (Piskorski,  2011).\n",
    "\n",
    "   - **SD2d** and **SD2a**: long-term variance of contributions of decelerations (prolongations of RR intervals) and accelerations (shortenings of RR intervals), respectively (Piskorski,  2011).\n",
    "\n",
    "   - **C2d** and **C2a**: the contributions of heart rate decelerations and accelerations to long-term HRV, respectively (Piskorski,  2011).\n",
    "\n",
    "   - **SDNNd** and **SDNNa**: total variance of contributions of decelerations(prolongations of RR intervals) and accelerations (shortenings of RR intervals), respectively (Piskorski,  2011).\n",
    "\n",
    "   - **Cd** and **Ca**: the total contributions of heart rate decelerations and  accelerations to HRV.\n",
    "\n",
    "**Indices of Heart Rate Fragmentation** (Costa, 2017):\n",
    "\n",
    "   - **PIP**: Percentage of inflection points of the RR intervals series.\n",
    "\n",
    "   - **IALS**: Inverse of the average length of the acceleration/deceleration segments.\n",
    "\n",
    "   - **PSS**: Percentage of short segments.\n",
    "\n",
    "   - **PAS**: IPercentage of NN intervals in alternation segments.\n",
    "\n",
    "**Indices of Complexity**:\n",
    "\n",
    "   - **ApEn**: The approximate entropy measure of HRV, calculated by `entropy_approximate()`.\n",
    "\n",
    "   - **SampEn**: The sample entropy measure of HRV, calculated by `entropy_sample()`"
   ]
  },
  {
   "cell_type": "markdown",
   "metadata": {},
   "source": [
    "# References\n",
    "Ali, S. S., Lifshitz, M., & Raz, A. (2014). Empirical neuroenchantment: from reading minds to thinking critically. Frontiers in human neuroscience, 8, 357. https://doi.org/10.3389/fnhum.2014.00357"
   ]
  }
 ],
 "metadata": {
  "kernelspec": {
   "display_name": "Python 3",
   "language": "python",
   "name": "python3"
  },
  "language_info": {
   "codemirror_mode": {
    "name": "ipython",
    "version": 3
   },
   "file_extension": ".py",
   "mimetype": "text/x-python",
   "name": "python",
   "nbconvert_exporter": "python",
   "pygments_lexer": "ipython3",
   "version": "3.7.3"
  }
 },
 "nbformat": 4,
 "nbformat_minor": 2
}
